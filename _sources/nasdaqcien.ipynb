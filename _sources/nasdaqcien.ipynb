{
 "cells": [
  {
   "cell_type": "markdown",
   "id": "ef414643",
   "metadata": {},
   "source": [
    "# NASDAQ 100\n",
    "\n",
    "![NASDAQ100](https://s3-symbol-logo.tradingview.com/indices/nasdaq-100--big.svg)\n",
    "\n",
    "En NASDAQ100 podemos observar que recoge a los 100 valores de las compañias mas importantes del sector de la industria de la tecnología, telecomunicaciones y biotecnología.\n",
    "Se lo abrevia como ```NDX100``` y al igual que el resto de empresas que cotizan en bolsa, se encuentra ubicado en *Wall Street*.\n",
    "\n",
    "![NASDAQ](https://www.estrategiasdeinversion.com/uploads/noticias_redaccion/portada/nasdaq_foto.jpg)"
   ]
  }
 ],
 "metadata": {
  "jupytext": {
   "cell_metadata_filter": "-all",
   "formats": "md:myst",
   "text_representation": {
    "extension": ".md",
    "format_name": "myst",
    "format_version": 0.13,
    "jupytext_version": "1.11.5"
   }
  },
  "kernelspec": {
   "display_name": "Python 3",
   "language": "python",
   "name": "python3"
  },
  "language_info": {
   "codemirror_mode": {
    "name": "ipython",
    "version": 3
   },
   "file_extension": ".py",
   "mimetype": "text/x-python",
   "name": "python",
   "nbconvert_exporter": "python",
   "pygments_lexer": "ipython3",
   "version": "3.8.12"
  },
  "source_map": [
   14
  ]
 },
 "nbformat": 4,
 "nbformat_minor": 5
}